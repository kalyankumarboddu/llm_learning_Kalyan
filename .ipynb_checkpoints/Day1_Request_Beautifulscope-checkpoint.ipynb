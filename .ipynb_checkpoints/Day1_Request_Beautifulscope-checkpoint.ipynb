{
 "cells": [
  {
   "cell_type": "markdown",
   "id": "898630d3-9b6c-4716-ab92-a73c0f5f25dd",
   "metadata": {},
   "source": [
    "## Requests URL Module\n",
    "'''\n",
    "1. response.content\n",
    "2. response.text\n",
    "'''"
   ]
  },
  {
   "cell_type": "markdown",
   "id": "22c77623-80b3-4dce-b39f-afa7c3a90ee0",
   "metadata": {},
   "source": [
    "## Beautiful Soup\n",
    "'''\n",
    "1. soup.title\n",
    "2. soup.title.string\n",
    "3. soup.get_attribute_list\n",
    "4. soup.find_all('a')\n",
    "5. soup.find_all('a').get('attribute_name')\n",
    "6. soup.body([\"a\",\"div\"])\n",
    "7. <tag>.decompose() [Removes the tag from the entire soup HTML]\n",
    "8. soup.body.get_text() [Gives text details from body]\n",
    "'''"
   ]
  },
  {
   "cell_type": "code",
   "execution_count": 95,
   "id": "31984ad8-dad1-4db5-b381-2e12bf9776ec",
   "metadata": {},
   "outputs": [
    {
     "data": {
      "text/plain": [
       "'/Users/kalyankumarboddu/Documents/GitHub/llm_learning_Kalyan'"
      ]
     },
     "execution_count": 95,
     "metadata": {},
     "output_type": "execute_result"
    }
   ],
   "source": [
    "import os\n",
    "os.getcwd()"
   ]
  },
  {
   "cell_type": "code",
   "execution_count": 62,
   "id": "a5af5dc1-d548-4c55-80cd-372cd9386c3b",
   "metadata": {},
   "outputs": [],
   "source": [
    "from bs4 import BeautifulSoup\n",
    "import requests"
   ]
  },
  {
   "cell_type": "code",
   "execution_count": 64,
   "id": "9f66dac8-ca06-463a-8037-dd3241497e4e",
   "metadata": {},
   "outputs": [],
   "source": [
    "url=\"https://www.timesnownews.com/india/rahul-gandhi-says-abhi-picture-baaki-hai-in-renewed-vote-chori-charge-article-152452199\""
   ]
  },
  {
   "cell_type": "code",
   "execution_count": 69,
   "id": "d9300c88-3f75-46c1-827b-a4eeafdf5a3b",
   "metadata": {},
   "outputs": [
    {
     "data": {
      "text/plain": [
       "'\\nreponse content and text returns the html code of the response\\n'"
      ]
     },
     "execution_count": 69,
     "metadata": {},
     "output_type": "execute_result"
    }
   ],
   "source": [
    "response = requests.get(url)\n",
    "'''\n",
    "reponse content and text returns the html code of the response\n",
    "'''\n",
    "# response.content\n",
    "# response.text"
   ]
  },
  {
   "cell_type": "code",
   "execution_count": 91,
   "id": "73a0dcdf-8be0-4f66-b9d1-629d7769758d",
   "metadata": {},
   "outputs": [],
   "source": [
    "soup = BeautifulSoup(response.text, 'html.parser')"
   ]
  },
  {
   "cell_type": "code",
   "execution_count": 72,
   "id": "bed8ed6a-8ad2-4df2-a2f1-7933e262fb2b",
   "metadata": {},
   "outputs": [
    {
     "name": "stdout",
     "output_type": "stream",
     "text": [
      "<title>'124-Yr-old' Voter in Bihar Becomes Symbol of Opposition's 'Vote Chori' Charge Against EC, Rahul Gandhi Says ‘Picture Abhi Baaki Hai’ | India News - Times Now</title>\n"
     ]
    }
   ],
   "source": [
    "print(soup.title)"
   ]
  },
  {
   "cell_type": "code",
   "execution_count": 73,
   "id": "afbc54a3-0ca3-42b8-a83c-09b8d79c68c2",
   "metadata": {},
   "outputs": [
    {
     "name": "stdout",
     "output_type": "stream",
     "text": [
      "'124-Yr-old' Voter in Bihar Becomes Symbol of Opposition's 'Vote Chori' Charge Against EC, Rahul Gandhi Says ‘Picture Abhi Baaki Hai’ | India News - Times Now\n"
     ]
    }
   ],
   "source": [
    "print(soup.title.string)"
   ]
  },
  {
   "cell_type": "code",
   "execution_count": 85,
   "id": "e9b69d71-dfef-4570-aaf2-b54567596077",
   "metadata": {},
   "outputs": [],
   "source": [
    "print(soup.get_attribute_list) # Gets the Attribute list\n",
    "\n",
    "for tag in soup.find_all(\"a\"):\n",
    "    print(tag.get('href'))\n",
    "# Get href attribute value"
   ]
  },
  {
   "cell_type": "code",
   "execution_count": 93,
   "id": "7b025a18-287e-48a3-b845-14ef29aa7b2d",
   "metadata": {},
   "outputs": [],
   "source": [
    "for tag in soup.body([\"a\",\"div\"]):\n",
    "    tag.decompose()"
   ]
  },
  {
   "cell_type": "code",
   "execution_count": 92,
   "id": "fd1cc9b8-10d5-4fcc-b661-3375fb42e455",
   "metadata": {},
   "outputs": [
    {
     "data": {
      "text/plain": [
       "'Open PopupTimes NowTimes Now NavbharatZoomET NowET Now SwadeshET Now AdvisorTimes DriveHealth and MeDigitMarathiTeluguTamilBengaliKannadaMalayalamUnilistTheme Live tvPowered by India   Cities   Mumbai   Delhi   Kolkata   Bengaluru   Hyderabad   Chennai   Pune   Noida  India News\\'124-Yr-old\\' Voter in Bihar Becomes Symbol of Opposition\\'s \\'Vote Chori\\' Charge Against EC, Rahul Gandhi Says \\'Picture Abhi Baaki Hai\\'Edited by: Arpita GhoshUpdated Aug 12, 2025, 19:55 ISTReferring to reports of a 124-year-old woman, Minta Devi, listed as a first-time voter in Bihar, Gandhi said, \"There are unlimited cases like that. Abhi picture baki hai.\"LoP in the Lok Sabha and Congress leader Rahul Gandhi, party MP KC Venugopal, Gaurav Gogoi during a protest march by INDIA bloc MPs from Parliament House to the Election Commission against the revision of electoral rolls in Bihar and alleged \\'vote chori\\', in New Delhi, Monday, Aug. 11, 2025. (PTI Photo/Ravi Choudhary)follow usfollow usCongress leader Rahul Gandhi on Tuesday accused the Election Commission of failing to uphold the \"one person, one vote\" principle, alleging widespread and systematic irregularities in electoral rolls.\"All over the country, this is happening. The EC knows it, and we know it too,\" the Leader of Opposition told reporters in Parliament. \"Earlier, there was no evidence. Now there is. We protect the Constitution, and we will continue to do so. We will not stop,\" he added. Referring to reports of a 124-year-old woman, Minta Devi, listed as a first-time voter in Bihar, Gandhi said, \"There are unlimited cases like that. Abhi picture baki hai.\"Congress general secretary Priyanka Gandhi Vadra also claimed multiple voter entries with fake names and addresses.Earlier in the day, MPs from the opposition INDIA bloc staged a protest in Parliament against the voter roll revision in Bihar. Many wore white T-shirts featuring Minta Devi’s photo with \"124 Not Out\" printed on the back.The protest, led by Congress president Mallikarjun Kharge, Sonia Gandhi, Priyanka Gandhi, TMC’s Derek O’Brien, DMK’s TR Baalu, NCP (SP)’s Supriya Sule, and other MPs from DMK and Left parties, demanded the rollback of the Special Intensive Revision (SIR) exercise.Congress MP Manickam Tagore accused the poll panel of acting like a \"department of the BJP\" under Chief Election Commissioner Rajeev Kumar and Election Commissioner Gyanesh Kumar. \"The voters list is full of fraud,\" he said.Parliament has been deadlocked for weeks over the SIR issue, with proceedings repeatedly adjourned since the Monsoon Session began July 21. On Monday, opposition leaders marched from Parliament to the EC office but were stopped midway by police and briefly detained.Latest News PreviousspiritualKeeping It On Periphery : Sadhguru’s Friendly Advice To Youth On Pornography And Masturbationentertainment newsArjun Bijlani Reacts To Supreme Court’s Verdict On Stray Dogs In Delhi-NCR: My Heart Breaks... – EXCLUSIVEindiaMajor Atmanirbhar Push: India Approves Four Semiconductor Plants Worth Rs 4,594 Crore - To Be Set Up In Three StatessportsPSG Dressing Room in Huge Turmoil Over Ballon d\\'Or Awardentertainment newsJohn Abraham Says He Will NEVER Make Movies Like Chhaava, The Kashmir Files: When Films Are Made With Intent To Sway...entertainment newsSara Ali Khan Turns 30: Metro In Dino Actress Shares Glimpse Of Her \\'Pink\\' Birthday, Thanks Fans For Heartwarming WishesindiaBihar SIR Hearing: Two \\'Dead\\' Persons Surface in Supreme Court - And This Happened...entertainment newsKangana Ranaut Calls Jaya Bachchan \\'Most Spoilt Woman\\' After Veteran Actress Pushes Fan NextArpita Ghosh authorArpita Ghosh (She/Her) is an Assistant Editor at Times Now Digital, with over eight years of experience in digital journalism. She has worked across v...View Morenewsindia newsEnd of ArticleRead MoreSubscribe to our daily  Newsletter!SubmitRelated NewsMajor Atmanirbhar Push: India Approves Four Semiconductor Plants Worth Rs 4,594 Crore - To Be Set Up In Three StatesBihar SIR Hearing: Two \\'Dead\\' Persons Surface in Supreme Court - And This Happened...\\'When Paris Killed Dogs\\': What Happened In 1880s And Why Is Maneka Gandhi Warning Delhi?Owaisi Tears Into Pak Army Chief Asim Munir Over \\'Nuclear Threat in US\\': \\'Speaking Like a Sadakchaap Aadmi (Useless Man)\\'Bihar SIR Case: SC Rejects Aadhaar as Citizenship Proof, Backs Election Commission’s AuthorityFollow us :Download AppTop TrendsKerala Lottery8th Pay CommissionSaurashtra Jobs NewsIndia TariffsKrishna Janmashtami 2025Cristiano Ronaldo EngagementCitroen C3X India LaunchGanesh Chaturthi Date 2025UPSC Mains Admit CardRajasthan HC Stray DogsSachin TendulkarMrunal ThakurMithunKashmiri Nurse MurderStray DogRahul GandhiTop SearchesWeather TodayTimes Now SamarthIndia Health AwardsHappy Birthday WishesFixed DepositLive TVSubscribe NewsletterGold Price TodayHolidays in IndiaFestivalsPassportPAN CardDriving LicenceVoter IDAadhaar CardFuel Price in IndiaEntertainmentCoolie Vs War 2Cristiano Ronaldo EngagementDhadak 2Jolly LLB 3 TeaserLatest OTT ReleasesPooja HegdeJanhvi KapoorParam SundariDisha VakaniAamir KhanLifestyleNag Pancham 2025India Longest Vande Bharat ExpressIndependence Day 2025Cristiano RonaldoKajari Teej 2025Red Fort10 Romance Books6 Life-Changing BooksUS VisaKali Jayanti 2025CompanyAbout UsContact UsAdvertise with usRegulatoryTerms & ConditionsPrivacy PolicyDisclaimerComplaint RedressalSyndication And Partnerships© 2025 Bennett, Coleman & Company Limited'"
      ]
     },
     "execution_count": 92,
     "metadata": {},
     "output_type": "execute_result"
    }
   ],
   "source": [
    "soup.body.get_text()"
   ]
  }
 ],
 "metadata": {
  "kernelspec": {
   "display_name": "Python 3 (ipykernel)",
   "language": "python",
   "name": "python3"
  },
  "language_info": {
   "codemirror_mode": {
    "name": "ipython",
    "version": 3
   },
   "file_extension": ".py",
   "mimetype": "text/x-python",
   "name": "python",
   "nbconvert_exporter": "python",
   "pygments_lexer": "ipython3",
   "version": "3.11.13"
  }
 },
 "nbformat": 4,
 "nbformat_minor": 5
}
