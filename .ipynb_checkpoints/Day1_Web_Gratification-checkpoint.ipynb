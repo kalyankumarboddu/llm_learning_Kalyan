{
 "cells": [
  {
   "cell_type": "code",
   "execution_count": 1,
   "id": "7f31b2d4-db07-4b41-b0fc-ee1b3f8254da",
   "metadata": {},
   "outputs": [],
   "source": [
    "import requests\n",
    "from bs4 import BeautifulSoup"
   ]
  },
  {
   "cell_type": "code",
   "execution_count": 33,
   "id": "ed28ea44-b5b5-4864-b070-4d84d12c293e",
   "metadata": {},
   "outputs": [],
   "source": [
    "headers = {\n",
    " \"User-Agent\": \"Mozilla/5.0 (Windows NT 10.0; Win64; x64) AppleWebKit/537.36 (KHTML, like Gecko) Chrome/117.0.0.0 Safari/537.36\"\n",
    "}\n",
    "\n",
    "\n",
    "class Website:\n",
    "    \"\"\"\n",
    "    Class is mainaly for website scrapping\n",
    "    \"\"\"\n",
    "\n",
    "    def __init__(self,url):\n",
    "        \"\"\"\n",
    "         Class is mainly for Website scrapping result in title and body as text\n",
    "         \"\"\"\n",
    "        self.url = url\n",
    "        response = requests.get(url,headers=headers)\n",
    "        soup = BeautifulSoup(response.text,'html.parser')\n",
    "        self.title = soup.title.string if soup.title else \"No title found\"\n",
    "\n",
    "        for tag in soup.body([\"script\",\"img\",\"input\",\"style\"]):\n",
    "            tag.decompose()\n",
    "        self.text = soup.body.get_text(separator=\"\\n\", strip=True)\n",
    "\n",
    "        "
   ]
  },
  {
   "cell_type": "code",
   "execution_count": 37,
   "id": "16e0042b-054d-4d2d-b7ad-5782c48ba06a",
   "metadata": {},
   "outputs": [
    {
     "name": "stdout",
     "output_type": "stream",
     "text": [
      "'124-Yr-old' Voter in Bihar Becomes Symbol of Opposition's 'Vote Chori' Charge Against EC, Rahul Gandhi Says ‘Picture Abhi Baaki Hai’ | India News - Times Now\n",
      "--------\n"
     ]
    }
   ],
   "source": [
    "url=\"https://www.timesnownews.com/india/rahul-gandhi-says-abhi-picture-baaki-hai-in-renewed-vote-chori-charge-article-152452199\"\n",
    "wb = Website(url)\n",
    "print(wb.title)\n",
    "print(\"--------\")\n",
    "# print(wb.text)"
   ]
  },
  {
   "cell_type": "code",
   "execution_count": 35,
   "id": "138a1a0e-7374-4194-9c70-f9559310b371",
   "metadata": {},
   "outputs": [
    {
     "name": "stdout",
     "output_type": "stream",
     "text": [
      "Tirumala Tirupati Devasthanams(Official Booking Portal)\n",
      "----------\n",
      "You need to enable JavaScript to run this app.\n"
     ]
    }
   ],
   "source": [
    "url=\"https://ttdevasthanams.ap.gov.in/home/dashboard\"\n",
    "wb = Website(url)\n",
    "print(wb.title)\n",
    "print(\"----------\")\n",
    "print(wb.text)"
   ]
  },
  {
   "cell_type": "code",
   "execution_count": 36,
   "id": "62244a6c-fdbf-4815-8cf8-ba5cd901d8c2",
   "metadata": {},
   "outputs": [
    {
     "data": {
      "text/plain": [
       "'\\n    Class is mainaly for website scrapping\\n    '"
      ]
     },
     "execution_count": 36,
     "metadata": {},
     "output_type": "execute_result"
    }
   ],
   "source": [
    "wb.__doc__"
   ]
  },
  {
   "cell_type": "code",
   "execution_count": 31,
   "id": "c6d9b70c-75dc-4db3-a5ed-19835f416e77",
   "metadata": {},
   "outputs": [
    {
     "name": "stdout",
     "output_type": "stream",
     "text": [
      "Help on Website in module __main__ object:\n",
      "\n",
      "class Website(builtins.object)\n",
      " |  Website(url)\n",
      " |  \n",
      " |  Class is mainaly for website scrapping\n",
      " |  \n",
      " |  Methods defined here:\n",
      " |  \n",
      " |  __init__(self, url)\n",
      " |      Class is mainly for Website scrapping result in title and body as text\n",
      " |  \n",
      " |  ----------------------------------------------------------------------\n",
      " |  Data descriptors defined here:\n",
      " |  \n",
      " |  __dict__\n",
      " |      dictionary for instance variables\n",
      " |  \n",
      " |  __weakref__\n",
      " |      list of weak references to the object\n",
      "\n"
     ]
    }
   ],
   "source": [
    "help(wb)"
   ]
  }
 ],
 "metadata": {
  "kernelspec": {
   "display_name": "Python 3 (ipykernel)",
   "language": "python",
   "name": "python3"
  },
  "language_info": {
   "codemirror_mode": {
    "name": "ipython",
    "version": 3
   },
   "file_extension": ".py",
   "mimetype": "text/x-python",
   "name": "python",
   "nbconvert_exporter": "python",
   "pygments_lexer": "ipython3",
   "version": "3.11.13"
  }
 },
 "nbformat": 4,
 "nbformat_minor": 5
}
