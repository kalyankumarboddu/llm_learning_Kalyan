{
 "cells": [
  {
   "cell_type": "code",
   "execution_count": 2,
   "id": "be17b1d6-c47b-48cb-9f37-87cb47aef457",
   "metadata": {},
   "outputs": [],
   "source": [
    "#/Users/kalyankumarboddu/Documents/GitHub/llm_engineering/week1/day1.ipynb"
   ]
  },
  {
   "cell_type": "code",
   "execution_count": 3,
   "id": "0671f882-4493-44a2-bfbb-4b598997971e",
   "metadata": {},
   "outputs": [
    {
     "data": {
      "text/plain": [
       "'/Users/kalyankumarboddu/Documents/GitHub/llm_learning_Kalyan'"
      ]
     },
     "execution_count": 3,
     "metadata": {},
     "output_type": "execute_result"
    }
   ],
   "source": [
    "import os\n",
    "os.getcwd()\n"
   ]
  }
 ],
 "metadata": {
  "kernelspec": {
   "display_name": "Python 3 (ipykernel)",
   "language": "python",
   "name": "python3"
  },
  "language_info": {
   "codemirror_mode": {
    "name": "ipython",
    "version": 3
   },
   "file_extension": ".py",
   "mimetype": "text/x-python",
   "name": "python",
   "nbconvert_exporter": "python",
   "pygments_lexer": "ipython3",
   "version": "3.11.13"
  }
 },
 "nbformat": 4,
 "nbformat_minor": 5
}
